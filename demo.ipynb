{
 "cells": [
  {
   "cell_type": "markdown",
   "metadata": {},
   "source": [
    "# Disentangled Variational Autoencoder Demo\n",
    "This demo is based on the JointVAE framework and implementation by Emilien Dupont (2018) and showcases how the model found data-generative factors of various data inlcuding hand-written digits and fashion. It enables the user to get a touch and feel for how targeted data generation becomes possible with disentangled Variation Autoencoders (cf. Higgins et al. 2016)."
   ]
  },
  {
   "cell_type": "code",
   "execution_count": null,
   "metadata": {},
   "outputs": [],
   "source": []
  },
  {
   "cell_type": "code",
   "execution_count": null,
   "metadata": {},
   "outputs": [],
   "source": []
  },
  {
   "cell_type": "code",
   "execution_count": null,
   "metadata": {},
   "outputs": [],
   "source": []
  },
  {
   "cell_type": "markdown",
   "metadata": {},
   "source": [
    "#### References\n",
    "- Dupont, Emilien. \"Learning disentangled joint continuous and discrete representations.\" Advances in neural information processing systems 31 (2018).\n",
    "- JointVAE implementation: https://github.com/Schlumberger/joint-vae/tree/master, lastest retrieval 02nd Feb 2024\n",
    "- Higgins, Irina, et al. \"Early visual concept learning with unsupervised deep learning.\" arXiv preprint arXiv:1606.05579 (2016)."
   ]
  }
 ],
 "metadata": {
  "language_info": {
   "name": "python"
  }
 },
 "nbformat": 4,
 "nbformat_minor": 2
}
