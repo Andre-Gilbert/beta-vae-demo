{
 "cells": [
  {
   "cell_type": "markdown",
   "metadata": {},
   "source": [
    "# Disentangled Variational Autoencoder Demo\n",
    "This demo is based on the JointVAE framework and implementation by Emilien Dupont (2018) and showcases how the model found data-generative factors of various data inlcuding hand-written digits and fashion. It enables the user to get a touch and feel for how targeted data generation becomes possible with disentangled Variation Autoencoders (cf. Higgins et al. 2016)."
   ]
  },
  {
   "cell_type": "code",
   "execution_count": 1,
   "metadata": {},
   "outputs": [
    {
     "name": "stderr",
     "output_type": "stream",
     "text": [
      "/Users/jaabertr/Desktop/Uni/WF Artificial Intelligence/Abgabe Themenbereich 3/lib/python3.9/site-packages/urllib3/__init__.py:35: NotOpenSSLWarning: urllib3 v2 only supports OpenSSL 1.1.1+, currently the 'ssl' module is compiled with 'LibreSSL 2.8.3'. See: https://github.com/urllib3/urllib3/issues/3020\n",
      "  warnings.warn(\n"
     ]
    }
   ],
   "source": [
    "# Imports\n",
    "from visualization.visualizer import Visualizer\n",
    "import matplotlib.pyplot as plt\n",
    "import numpy as np\n",
    "import ipywidgets as widgets\n",
    "from IPython.display import display, clear_output, HTML"
   ]
  },
  {
   "cell_type": "markdown",
   "metadata": {},
   "source": [
    "## Hand-written digit generation\n",
    "VAE trained on MNIST, used for hand-written digit generation."
   ]
  },
  {
   "cell_type": "code",
   "execution_count": 2,
   "metadata": {},
   "outputs": [],
   "source": [
    "# Definition\n",
    "path_mnist = './trained_models/mnist/'\n",
    "viz_mnist = Visualizer(path_mnist)"
   ]
  },
  {
   "cell_type": "code",
   "execution_count": 3,
   "metadata": {},
   "outputs": [
    {
     "data": {
      "text/plain": [
       "VAE(\n",
       "  (img_to_features): Sequential(\n",
       "    (0): Conv2d(1, 32, kernel_size=(4, 4), stride=(2, 2), padding=(1, 1))\n",
       "    (1): ReLU()\n",
       "    (2): Conv2d(32, 64, kernel_size=(4, 4), stride=(2, 2), padding=(1, 1))\n",
       "    (3): ReLU()\n",
       "    (4): Conv2d(64, 64, kernel_size=(4, 4), stride=(2, 2), padding=(1, 1))\n",
       "    (5): ReLU()\n",
       "  )\n",
       "  (features_to_hidden): Sequential(\n",
       "    (0): Linear(in_features=1024, out_features=256, bias=True)\n",
       "    (1): ReLU()\n",
       "  )\n",
       "  (fc_mean): Linear(in_features=256, out_features=10, bias=True)\n",
       "  (fc_log_var): Linear(in_features=256, out_features=10, bias=True)\n",
       "  (fc_alphas): ModuleList(\n",
       "    (0): Linear(in_features=256, out_features=10, bias=True)\n",
       "  )\n",
       "  (latent_to_features): Sequential(\n",
       "    (0): Linear(in_features=20, out_features=256, bias=True)\n",
       "    (1): ReLU()\n",
       "    (2): Linear(in_features=256, out_features=1024, bias=True)\n",
       "    (3): ReLU()\n",
       "  )\n",
       "  (features_to_img): Sequential(\n",
       "    (0): ConvTranspose2d(64, 32, kernel_size=(4, 4), stride=(2, 2), padding=(1, 1))\n",
       "    (1): ReLU()\n",
       "    (2): ConvTranspose2d(32, 32, kernel_size=(4, 4), stride=(2, 2), padding=(1, 1))\n",
       "    (3): ReLU()\n",
       "    (4): ConvTranspose2d(32, 1, kernel_size=(4, 4), stride=(2, 2), padding=(1, 1))\n",
       "    (5): Sigmoid()\n",
       "  )\n",
       ")"
      ]
     },
     "execution_count": 3,
     "metadata": {},
     "output_type": "execute_result"
    }
   ],
   "source": [
    "viz_mnist.model"
   ]
  },
  {
   "cell_type": "code",
   "execution_count": 4,
   "metadata": {},
   "outputs": [
    {
     "data": {
      "image/png": "[encoded data removed]",
      "text/plain": [
       "<Figure size 640x480 with 1 Axes>"
      ]
     },
     "metadata": {},
     "output_type": "display_data"
    }
   ],
   "source": [
    "# Generate\n",
    "continuous = [0.0000,  0.0000,  0.0000,  0.0000,  0.0000,   0.0000,  0.0000,    0.0000,  0.0000,  0.0000]\n",
    "#             width    style1   tilt     Nothing  Nothing   Nothing  thickness  Nothing  style2   Nothing\n",
    "# style 1: High values -> horizontal line further towards right, low values -> lean number\n",
    "# style 2: Written more or less italic.\n",
    "discrete = [0, 0, 0, 0, 0, 0, 0, 0, 0, 3] # 3 for a good sharpness, fixed instead of ppf\n",
    "number_mapping = [2, 8, 9, 1, 6, 3, 5, 4, 7, 0]\n",
    "img = viz_mnist.visualize(discrete_latent_parameters=discrete, continous_latent_parameters=continuous)\n",
    "\n",
    "# Visualize\n",
    "plt.imshow(img, cmap='gray')\n",
    "plt.axis('off')\n",
    "plt.show()"
   ]
  },
  {
   "cell_type": "code",
   "execution_count": 5,
   "metadata": {},
   "outputs": [
    {
     "data": {
      "text/html": [
       "<style>.output_wrapper, .output { height:auto !important; max-height: none !important; }</style>"
      ],
      "text/plain": [
       "<IPython.core.display.HTML object>"
      ]
     },
     "metadata": {},
     "output_type": "display_data"
    },
    {
     "data": {
      "application/vnd.jupyter.widget-view+json": {
       "model_id": "26115c516525417ea65f9a5475f89d45",
       "version_major": 2,
       "version_minor": 0
      },
      "text/plain": [
       "HBox(children=(Output(layout=Layout(padding='10px', width='50%')), Output(layout=Layout(width='50%'))))"
      ]
     },
     "metadata": {},
     "output_type": "display_data"
    }
   ],
   "source": [
    "# Make the notebook interactive\n",
    "\n",
    "# Define sliders for each parameter\n",
    "slider1 = widgets.IntSlider(value=4, min=0, max=9, step=1, description='Number type')\n",
    "slider2 = widgets.FloatSlider(value=0.0, min=-3.0, max=3.0, step=0.1, description='Width')\n",
    "slider3 = widgets.FloatSlider(value=0.0, min=-3.0, max=3.0, step=0.1, description='Style 1')\n",
    "slider4 = widgets.FloatSlider(value=0.0, min=-3.0, max=3.0, step=0.1, description='Style 2')\n",
    "slider5 = widgets.FloatSlider(value=0.0, min=-3.0, max=3.0, step=0.1, description='Tilt')\n",
    "slider6 = widgets.FloatSlider(value=0.0, min=-3.0, max=3.0, step=0.1, description='Thickness')\n",
    "\n",
    "# Create output areas for sliders and image\n",
    "output_sliders = widgets.Output(layout={'background-color': 'black', 'padding': '10px', 'width': '50%'})\n",
    "output_image = widgets.Output(layout={'background-color': 'black', 'width': '50%'})\n",
    "\n",
    "# Display sliders in one output area\n",
    "with output_sliders:\n",
    "    display(widgets.VBox([slider1, slider2, slider3, slider4, slider5, slider6]))\n",
    "\n",
    "# Display image in another output area\n",
    "with output_image:\n",
    "    pass\n",
    "\n",
    "# Define function to update output when sliders change\n",
    "def update_output(change):\n",
    "    \"On change of input, we want to run this.\"\n",
    "\n",
    "    output_image.clear_output(wait=True)  # Clear the image output area\n",
    "\n",
    "    continuous = [slider2.value,  slider3.value,  slider5.value,  0.0000,  0.0000,   0.0000,  slider6.value,    0.0000,  slider4.value,  0.0000]\n",
    "    #             width           style1          tilt            Nothing  Nothing   Nothing  thickness         Nothing  style2          Nothing\n",
    "    # style 1: High values -> horizontal line further towards right, low values -> lean number\n",
    "    # style 2: Written more or less italic.\n",
    "    # discrete = [0, 0, 0, 0, 0, 0, 0, 0, 0, 3] # 3 for a good sharpness, fixed instead of ppf\n",
    "    discrete = np.zeros(10, int)\n",
    "    number_mapping = [2, 8, 9, 1, 6, 3, 5, 4, 7, 0]\n",
    "    discrete[number_mapping.index(slider1.value)] = 3 # 3 for a good sharpness, fixed instead of ppf\n",
    "    img = viz_mnist.visualize(discrete_latent_parameters=discrete, continous_latent_parameters=continuous)\n",
    "\n",
    "    # Visualize\n",
    "    with output_image:\n",
    "        plt.imshow(img, cmap='gray')\n",
    "        plt.axis('off')\n",
    "        plt.show()\n",
    "    \n",
    "\n",
    "# Attach the update function to each slider\n",
    "slider1.observe(update_output, names='value')\n",
    "slider2.observe(update_output, names='value')\n",
    "slider3.observe(update_output, names='value')\n",
    "slider4.observe(update_output, names='value')\n",
    "slider5.observe(update_output, names='value')\n",
    "slider6.observe(update_output, names='value')\n",
    "\n",
    "# Display output areas and sliders\n",
    "display(HTML(\"<style>.output_wrapper, .output { height:auto !important; max-height: none !important; }</style>\"))\n",
    "display(widgets.HBox([output_sliders, output_image]))"
   ]
  },
  {
   "cell_type": "markdown",
   "metadata": {},
   "source": [
    "## DSprites Dataset"
   ]
  },
  {
   "cell_type": "code",
   "execution_count": 49,
   "metadata": {},
   "outputs": [
    {
     "data": {
      "text/plain": [
       "VAE(\n",
       "  (img_to_features): Sequential(\n",
       "    (0): Conv2d(1, 32, kernel_size=(4, 4), stride=(2, 2), padding=(1, 1))\n",
       "    (1): ReLU()\n",
       "    (2): Conv2d(32, 32, kernel_size=(4, 4), stride=(2, 2), padding=(1, 1))\n",
       "    (3): ReLU()\n",
       "    (4): Conv2d(32, 64, kernel_size=(4, 4), stride=(2, 2), padding=(1, 1))\n",
       "    (5): ReLU()\n",
       "    (6): Conv2d(64, 64, kernel_size=(4, 4), stride=(2, 2), padding=(1, 1))\n",
       "    (7): ReLU()\n",
       "  )\n",
       "  (features_to_hidden): Sequential(\n",
       "    (0): Linear(in_features=1024, out_features=256, bias=True)\n",
       "    (1): ReLU()\n",
       "  )\n",
       "  (fc_mean): Linear(in_features=256, out_features=6, bias=True)\n",
       "  (fc_log_var): Linear(in_features=256, out_features=6, bias=True)\n",
       "  (fc_alphas): ModuleList(\n",
       "    (0): Linear(in_features=256, out_features=3, bias=True)\n",
       "  )\n",
       "  (latent_to_features): Sequential(\n",
       "    (0): Linear(in_features=9, out_features=256, bias=True)\n",
       "    (1): ReLU()\n",
       "    (2): Linear(in_features=256, out_features=1024, bias=True)\n",
       "    (3): ReLU()\n",
       "  )\n",
       "  (features_to_img): Sequential(\n",
       "    (0): ConvTranspose2d(64, 64, kernel_size=(4, 4), stride=(2, 2), padding=(1, 1))\n",
       "    (1): ReLU()\n",
       "    (2): ConvTranspose2d(64, 32, kernel_size=(4, 4), stride=(2, 2), padding=(1, 1))\n",
       "    (3): ReLU()\n",
       "    (4): ConvTranspose2d(32, 32, kernel_size=(4, 4), stride=(2, 2), padding=(1, 1))\n",
       "    (5): ReLU()\n",
       "    (6): ConvTranspose2d(32, 1, kernel_size=(4, 4), stride=(2, 2), padding=(1, 1))\n",
       "    (7): Sigmoid()\n",
       "  )\n",
       ")"
      ]
     },
     "execution_count": 49,
     "metadata": {},
     "output_type": "execute_result"
    }
   ],
   "source": [
    "# Definition\n",
    "path_mnist = './trained_models/dsprites/'\n",
    "viz_mnist = Visualizer(path_mnist)\n",
    "viz_mnist.model"
   ]
  },
  {
   "cell_type": "code",
   "execution_count": 174,
   "metadata": {},
   "outputs": [
    {
     "data": {
      "image/png": "[encoded data removed]",
      "text/plain": [
       "<Figure size 640x480 with 1 Axes>"
      ]
     },
     "metadata": {},
     "output_type": "display_data"
    }
   ],
   "source": [
    "# Generate\n",
    "continuous = [0.0000, 10.0000, -10.0000, 0.0000, 0.0000,\\\n",
    "            # None    y-axis   x-axis    None    Scale\n",
    "              -7.0000]\n",
    "            # Angle\n",
    "\n",
    "discrete = [0.0000, 0.0000000000000, 0.0000] # 3 for a good sharpness, fixed instead of ppf\n",
    "          # shape   shape            dark if other than 0\n",
    "          # Nothing usefull except for the first dimension.\n",
    "\n",
    "img = viz_mnist.visualize(discrete_latent_parameters=discrete, continous_latent_parameters=continuous)\n",
    "\n",
    "# Visualize\n",
    "plt.imshow(img, cmap='gray')\n",
    "plt.axis('off')\n",
    "plt.show()"
   ]
  },
  {
   "cell_type": "code",
   "execution_count": 183,
   "metadata": {},
   "outputs": [
    {
     "data": {
      "text/html": [
       "<style>.output_wrapper, .output { height:auto !important; max-height: none !important; }</style>"
      ],
      "text/plain": [
       "<IPython.core.display.HTML object>"
      ]
     },
     "metadata": {},
     "output_type": "display_data"
    },
    {
     "data": {
      "application/vnd.jupyter.widget-view+json": {
       "model_id": "a664f20b42c44965b21144a3272e7211",
       "version_major": 2,
       "version_minor": 0
      },
      "text/plain": [
       "HBox(children=(Output(layout=Layout(padding='10px', width='50%')), Output(layout=Layout(width='50%'))))"
      ]
     },
     "metadata": {},
     "output_type": "display_data"
    }
   ],
   "source": [
    "# Make the notebook interactive\n",
    "\n",
    "# Define sliders for each parameter\n",
    "slider1 = widgets.FloatSlider(value=0.0, min=-10.0, max=10.0, step=1., description='Y-Axis')\n",
    "slider2 = widgets.FloatSlider(value=0.0, min=-10.0, max=10.0, step=1., description='X-Axis')\n",
    "slider3 = widgets.FloatSlider(value=-2.0, min=-3.0, max=-1.0, step=1., description='Shape')\n",
    "slider4 = widgets.FloatSlider(value=0.0, min=-4.0, max=3.0, step=1., description='Angle')\n",
    "slider5 = widgets.IntSlider(value=0, min=0, max=10, step=1, description='Scale 1')\n",
    "slider6 = widgets.IntSlider(value=0, min=0, max=10, step=1, description='Scale 2')\n",
    "\n",
    "# Create output areas for sliders and image\n",
    "output_sliders = widgets.Output(layout={'background-color': 'black', 'padding': '10px', 'width': '50%'})\n",
    "output_image = widgets.Output(layout={'background-color': 'black', 'width': '50%'})\n",
    "\n",
    "# Display sliders in one output area\n",
    "with output_sliders:\n",
    "    display(widgets.VBox([slider1, slider2, slider3, slider4, slider5, slider6]))\n",
    "\n",
    "# Display image in another output area\n",
    "with output_image:\n",
    "    pass\n",
    "\n",
    "# Define function to update output when sliders change\n",
    "def update_output(change):\n",
    "    \"On change of input, we want to run this.\"\n",
    "\n",
    "    output_image.clear_output(wait=True)  # Clear the image output area\n",
    "\n",
    "    continuous = [0, slider1.value, slider2.value, 0, slider3.value, slider4.value]\n",
    "    discrete = [slider6.value, slider5.value, 0]\n",
    "    img = viz_mnist.visualize(discrete_latent_parameters=discrete, continous_latent_parameters=continuous)\n",
    "\n",
    "    # Visualize\n",
    "    with output_image:\n",
    "        plt.imshow(img, cmap='gray')\n",
    "        plt.axis('off')\n",
    "        plt.show()\n",
    "    \n",
    "\n",
    "# Attach the update function to each slider\n",
    "slider1.observe(update_output, names='value')\n",
    "slider2.observe(update_output, names='value')\n",
    "slider3.observe(update_output, names='value')\n",
    "slider4.observe(update_output, names='value')\n",
    "slider5.observe(update_output, names='value')\n",
    "slider6.observe(update_output, names='value')\n",
    "\n",
    "# Display output areas and sliders\n",
    "display(HTML(\"<style>.output_wrapper, .output { height:auto !important; max-height: none !important; }</style>\"))\n",
    "display(widgets.HBox([output_sliders, output_image]))"
   ]
  },
  {
   "cell_type": "markdown",
   "metadata": {},
   "source": [
    "#### References\n",
    "- Dupont, Emilien. \"Learning disentangled joint continuous and discrete representations.\" Advances in neural information processing systems 31 (2018).\n",
    "- JointVAE implementation: https://github.com/Schlumberger/joint-vae/tree/master, lastest retrieval 02nd Feb 2024\n",
    "- Higgins, Irina, et al. \"Early visual concept learning with unsupervised deep learning.\" arXiv preprint arXiv:1606.05579 (2016)."
   ]
  }
 ],
 "metadata": {
  "kernelspec": {
   "display_name": "Abgabe Themenbereich 3",
   "language": "python",
   "name": "python3"
  },
  "language_info": {
   "codemirror_mode": {
    "name": "ipython",
    "version": 3
   },
   "file_extension": ".py",
   "mimetype": "text/x-python",
   "name": "python",
   "nbconvert_exporter": "python",
   "pygments_lexer": "ipython3",
   "version": "3.9.6"
  }
 },
 "nbformat": 4,
 "nbformat_minor": 2
}
